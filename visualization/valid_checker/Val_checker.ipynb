{
 "cells": [
  {
   "cell_type": "code",
   "execution_count": 86,
   "id": "224f1102-b8e2-4ecf-8b02-06d68fb29ce0",
   "metadata": {},
   "outputs": [],
   "source": [
    "import os\n",
    "import torch\n",
    "import shutil\n",
    "import webcolors\n",
    "import numpy as np\n",
    "import pandas as pd\n",
    "from tqdm import tqdm\n",
    "from easydict import EasyDict\n",
    "import matplotlib.pyplot as plt\n",
    "from matplotlib.patches import Patch\n",
    "from util.dataset import TrashDataset\n",
    "import segmentation_models_pytorch as smp\n",
    "from util.augmentation import get_valid_transform\n",
    "from util.metrics import add_hist, label_accuracy_score"
   ]
  },
  {
   "cell_type": "markdown",
   "id": "dfd2dfa8-a0cc-407e-ada8-c050365118f1",
   "metadata": {},
   "source": [
    "# args 세팅"
   ]
  },
  {
   "cell_type": "code",
   "execution_count": 8,
   "id": "507bd5a8-9c94-4410-9b43-e551f98a6303",
   "metadata": {},
   "outputs": [],
   "source": [
    "args = EasyDict({\n",
    "    \"total_json\": \"/opt/ml/input/data/train_all.json\",\n",
    "    \"train_json\": \"/opt/ml/input/data/train.json\",\n",
    "    \"valid_json\": \"/opt/ml/input/data/val.json\",\n",
    "    \"test_json\": \"/opt/ml/input/data/test.json\",\n",
    "    \"device\": \"cuda\",\n",
    "    \"learning_rate\": 0.0001,\n",
    "    \"batch_size\": 1,\n",
    "    \"num_workers\": 2,\n",
    "    \"save_dir\": \"/opt/ml/input/seunghyun/competition/val_checker/mask\",\n",
    "    \"model_path\": \"/opt/ml/input/level2-semantic-segmentation-level2-cv-11/pytorch/saved/EPOCH_30_DeepLabV3Plus_efficientb3_pretrained.pt\",\n",
    "})\n",
    "class_colormap = pd.read_csv(\"/opt/ml/input/code/class_dict.csv\")\n",
    "category_names = ['Background',\n",
    "                  'General trash',\n",
    "                  'Paper',\n",
    "                  'Paper pack',\n",
    "                  'Metal',\n",
    "                  'Glass',\n",
    "                  'Plastic',\n",
    "                  'Styrofoam',\n",
    "                  'Plastic bag',\n",
    "                  'Battery',\n",
    "                  'Clothing']\n"
   ]
  },
  {
   "cell_type": "markdown",
   "id": "c43ae607-7374-4bad-90e5-df56864725ab",
   "metadata": {},
   "source": [
    "# 1. Load Model"
   ]
  },
  {
   "cell_type": "code",
   "execution_count": 9,
   "id": "0990e9b6-4c72-40fd-b365-f651239bb466",
   "metadata": {},
   "outputs": [],
   "source": [
    "model = smp.DeepLabV3Plus(\n",
    "            encoder_name = 'timm-efficientnet-b3', # timm-efficientnet-b3\n",
    "            encoder_weights = 'imagenet',\n",
    "            in_channels=3,\n",
    "            classes = 11\n",
    "        )"
   ]
  },
  {
   "cell_type": "code",
   "execution_count": 10,
   "id": "c67b42d0-de64-4ace-9399-d8f6c9686a43",
   "metadata": {},
   "outputs": [],
   "source": [
    "# best model 불러오기\n",
    "checkpoint = torch.load(args.model_path, map_location=args.device)\n",
    "model.load_state_dict(checkpoint[\"state_dict\"])\n",
    "\n",
    "model = model.to(args.device)\n",
    "# 추론을 실행하기 전에는 반드시 설정 (batch normalization, dropout 를 평가 모드로 설정)\n",
    "model.eval();"
   ]
  },
  {
   "cell_type": "markdown",
   "id": "634ceb5f-5a41-4e9c-9229-81f83ae15ff0",
   "metadata": {},
   "source": [
    "# 2. Load valid data"
   ]
  },
  {
   "cell_type": "code",
   "execution_count": 11,
   "id": "cba5d475-6a6f-45a8-9e68-459b1d58ac7b",
   "metadata": {},
   "outputs": [
    {
     "name": "stdout",
     "output_type": "stream",
     "text": [
      "loading annotations into memory...\n",
      "Done (t=0.98s)\n",
      "creating index...\n",
      "index created!\n"
     ]
    }
   ],
   "source": [
    "def collate_fn(batch):\n",
    "    return tuple(zip(*batch))\n",
    "\n",
    "val_dataset = TrashDataset(data_dir=args.valid_json, mode='val', transform=get_valid_transform(args))\n",
    "val_loader = torch.utils.data.DataLoader(dataset=val_dataset, \n",
    "                                        batch_size=args.batch_size,\n",
    "                                        shuffle=False,\n",
    "                                        num_workers=args.num_workers,\n",
    "                                        collate_fn=collate_fn)"
   ]
  },
  {
   "cell_type": "markdown",
   "id": "df91726f-86f4-4bc4-b184-bdbcff3ddeb3",
   "metadata": {},
   "source": [
    "# 3. compute IoU"
   ]
  },
  {
   "cell_type": "code",
   "execution_count": 12,
   "id": "e3c18b74-9bb8-49e6-aa2a-6626420697a1",
   "metadata": {},
   "outputs": [],
   "source": [
    "def create_trash_label_colormap():\n",
    "    colormap = np.zeros((11, 3), dtype=np.uint8)\n",
    "    for inex, (_, r, g, b) in enumerate(class_colormap.values):\n",
    "        colormap[inex] = [r, g, b]\n",
    "    \n",
    "    return colormap\n",
    "\n",
    "def label_to_color_image(label):\n",
    "    if label.ndim != 2:\n",
    "        raise ValueError('Expect 2-D input label')\n",
    "\n",
    "    colormap = create_trash_label_colormap()\n",
    "\n",
    "    if np.max(label) >= len(colormap):\n",
    "        raise ValueError('label value too large.')\n",
    "\n",
    "    return colormap[label]"
   ]
  },
  {
   "cell_type": "markdown",
   "id": "4e5a6eb7-04be-42bf-9209-4c508cf8dd33",
   "metadata": {},
   "source": [
    "### 폴더 생성"
   ]
  },
  {
   "cell_type": "code",
   "execution_count": 26,
   "id": "0de235b5-16fb-440b-96bb-d8f343e56287",
   "metadata": {},
   "outputs": [],
   "source": [
    "if not os.path.exists(args.save_dir):\n",
    "    os.makedirs(args.save_dir)"
   ]
  },
  {
   "cell_type": "code",
   "execution_count": 36,
   "id": "d85f2623-759f-4351-ba6d-33663a0149d9",
   "metadata": {
    "tags": []
   },
   "outputs": [
    {
     "name": "stderr",
     "output_type": "stream",
     "text": [
      "Valid:   0%|          | 0/655 [00:00<?, ?it/s]/tmp/ipykernel_25679/2350939568.py:33: UserWarning: This figure was using constrained_layout, but that is incompatible with subplots_adjust and/or tight_layout; disabling constrained_layout.\n",
      "  fig.tight_layout()\n",
      "Valid: 100%|██████████| 655/655 [06:06<00:00,  1.79it/s]\n"
     ]
    }
   ],
   "source": [
    "# variable for legend\n",
    "category_and_rgb = [[category, (r,g,b)] for idx, (category, r, g, b) in enumerate(class_colormap.values)]\n",
    "legend_elements = [Patch(facecolor=webcolors.rgb_to_hex(rgb), \n",
    "                         edgecolor=webcolors.rgb_to_hex(rgb), \n",
    "                         label=category) for category, rgb in category_and_rgb]\n",
    "\n",
    "total_fnames = []\n",
    "total_mIoU = []\n",
    "total_class_nums = []\n",
    "\n",
    "pbar = tqdm(val_loader, total=len(val_loader), desc=f\"Valid\")\n",
    "for index, (imgs, masks, image_infos) in enumerate(pbar):\n",
    "    \n",
    "    f_name = image_infos[0]['file_name']\n",
    "    if not os.path.exists(os.path.join(args.save_dir, f_name.split('/')[0])):\n",
    "        os.makedirs(os.path.join(args.save_dir, f_name.split('/')[0]))\n",
    "        \n",
    "    outs = model(torch.stack(imgs).to(args.device))\n",
    "    # loss(outs, masks) crossentropy(class=weight). backgorund=0.2 0.1) + dice loss\n",
    "    oms = torch.argmax(outs, dim=1).detach().cpu().numpy()\n",
    "    \n",
    "    masks = torch.stack(masks).long()\n",
    "    \n",
    "    hist = np.zeros((11, 11))\n",
    "    hist = add_hist(hist, masks.detach().cpu().numpy(), oms, n_class=11)\n",
    "    acc, acc_cls, mIoU, fwavacc, IoU = label_accuracy_score(hist)\n",
    "    # print(f\"mIoU: {round(mIoU,4)} mean IoU: {round(np.nanmean(IoU),4)} acc: {round(acc,4)} acc_cls: {round(acc_cls,4)}\")\n",
    "    \n",
    "    total_fnames.append(f_name.split(\".\")[0] + '.png')\n",
    "    total_mIoU.append(mIoU)\n",
    "    total_class_nums.append(len(masks[0].unique()))\n",
    "    \n",
    "    fig, ax = plt.subplots(nrows=1, ncols=3, figsize=(12, 4), constrained_layout=True)\n",
    "    fig.tight_layout()\n",
    "\n",
    "    my_suptitle = fig.suptitle(f\"{f_name.split('.')[0] + '.png'} / mIoU: {round(mIoU,4)}\",y=1.1)\n",
    "    # Original Image\n",
    "    ax[0].imshow(imgs[0].permute([1,2,0]))\n",
    "    ax[0].set_title(f\"Orignal Image\")\n",
    "\n",
    "    # Groud Truth\n",
    "    ax[1].imshow(label_to_color_image(masks[0].detach().cpu().numpy()))\n",
    "    ax[1].set_title(f\"Groud Truth\")\n",
    "\n",
    "    # Pred Mask\n",
    "    ax[2].imshow(label_to_color_image(oms[0]))\n",
    "    ax[2].set_title(f\"Pred Mask\")\n",
    "    my_legend = ax[2].legend(handles=legend_elements, bbox_to_anchor=(1.05, 1), loc=2, borderaxespad=0)\n",
    "    \n",
    "    save_path = os.path.join(args.save_dir, f_name.split(\".\")[0]+'.png')\n",
    "    fig.savefig(save_path, bbox_inches='tight',bbox_extra_artists=[my_suptitle, my_legend])\n",
    "    plt.close(fig)\n"
   ]
  },
  {
   "cell_type": "code",
   "execution_count": 85,
   "id": "d1fd4562-867e-4fdf-83dd-a0866d0c02a1",
   "metadata": {},
   "outputs": [
    {
     "data": {
      "text/plain": [
       "torch.Size([1, 11, 512, 512])"
      ]
     },
     "execution_count": 85,
     "metadata": {},
     "output_type": "execute_result"
    }
   ],
   "source": [
    "outs.shape"
   ]
  },
  {
   "cell_type": "code",
   "execution_count": 83,
   "id": "e4fa1a28-bbff-4d0d-9ac5-79ec41dd0abd",
   "metadata": {},
   "outputs": [
    {
     "data": {
      "text/plain": [
       "<matplotlib.image.AxesImage at 0x7fefa4e70eb0>"
      ]
     },
     "execution_count": 83,
     "metadata": {},
     "output_type": "execute_result"
    },
    {
     "data": {
      "image/png": "[encoded data removed]",
      "text/plain": [
       "<Figure size 432x288 with 1 Axes>"
      ]
     },
     "metadata": {
      "needs_background": "light"
     },
     "output_type": "display_data"
    }
   ],
   "source": [
    "plt.imshow(oms[0])"
   ]
  },
  {
   "cell_type": "code",
   "execution_count": 80,
   "id": "8c867399-4f58-455c-859c-50eaf2fa8cdd",
   "metadata": {},
   "outputs": [
    {
     "data": {
      "text/plain": [
       "<matplotlib.image.AxesImage at 0x7fefa4e40340>"
      ]
     },
     "execution_count": 80,
     "metadata": {},
     "output_type": "execute_result"
    },
    {
     "data": {
      "image/png": "[encoded data removed]",
      "text/plain": [
       "<Figure size 432x288 with 1 Axes>"
      ]
     },
     "metadata": {
      "needs_background": "light"
     },
     "output_type": "display_data"
    }
   ],
   "source": [
    "plt.imshow(masks[0].numpy())"
   ]
  },
  {
   "cell_type": "markdown",
   "id": "847dad38-df2a-4167-afe7-be392789bf8f",
   "metadata": {},
   "source": [
    "# 4. Dataframe"
   ]
  },
  {
   "cell_type": "code",
   "execution_count": 58,
   "id": "14836630-c3cb-4a60-9b85-48c7068be9aa",
   "metadata": {},
   "outputs": [],
   "source": [
    "df = pd.DataFrame({'file_name': total_fnames,\n",
    "                  'mIoU': total_mIoU,\n",
    "                  'class_nums': total_class_nums})\n",
    "df = df.sort_values(by='mIoU').reset_index(drop=True)"
   ]
  },
  {
   "cell_type": "code",
   "execution_count": 59,
   "id": "dfed8db0-eaa1-4ce9-a1a8-b34226d2eea3",
   "metadata": {},
   "outputs": [
    {
     "data": {
      "text/html": [
       "<div>\n",
       "<style scoped>\n",
       "    .dataframe tbody tr th:only-of-type {\n",
       "        vertical-align: middle;\n",
       "    }\n",
       "\n",
       "    .dataframe tbody tr th {\n",
       "        vertical-align: top;\n",
       "    }\n",
       "\n",
       "    .dataframe thead th {\n",
       "        text-align: right;\n",
       "    }\n",
       "</style>\n",
       "<table border=\"1\" class=\"dataframe\">\n",
       "  <thead>\n",
       "    <tr style=\"text-align: right;\">\n",
       "      <th></th>\n",
       "      <th>file_name</th>\n",
       "      <th>mIoU</th>\n",
       "      <th>class_nums</th>\n",
       "    </tr>\n",
       "  </thead>\n",
       "  <tbody>\n",
       "    <tr>\n",
       "      <th>0</th>\n",
       "      <td>batch_01_vt/0589.png</td>\n",
       "      <td>0.101000</td>\n",
       "      <td>2</td>\n",
       "    </tr>\n",
       "    <tr>\n",
       "      <th>1</th>\n",
       "      <td>batch_01_vt/0655.png</td>\n",
       "      <td>0.122231</td>\n",
       "      <td>5</td>\n",
       "    </tr>\n",
       "    <tr>\n",
       "      <th>2</th>\n",
       "      <td>batch_01_vt/0558.png</td>\n",
       "      <td>0.136506</td>\n",
       "      <td>4</td>\n",
       "    </tr>\n",
       "    <tr>\n",
       "      <th>3</th>\n",
       "      <td>batch_03/0139.png</td>\n",
       "      <td>0.153990</td>\n",
       "      <td>3</td>\n",
       "    </tr>\n",
       "    <tr>\n",
       "      <th>4</th>\n",
       "      <td>batch_03/0512.png</td>\n",
       "      <td>0.162049</td>\n",
       "      <td>6</td>\n",
       "    </tr>\n",
       "    <tr>\n",
       "      <th>...</th>\n",
       "      <td>...</td>\n",
       "      <td>...</td>\n",
       "      <td>...</td>\n",
       "    </tr>\n",
       "    <tr>\n",
       "      <th>650</th>\n",
       "      <td>batch_01_vt/0572.png</td>\n",
       "      <td>0.994069</td>\n",
       "      <td>2</td>\n",
       "    </tr>\n",
       "    <tr>\n",
       "      <th>651</th>\n",
       "      <td>batch_01_vt/1097.png</td>\n",
       "      <td>0.994129</td>\n",
       "      <td>2</td>\n",
       "    </tr>\n",
       "    <tr>\n",
       "      <th>652</th>\n",
       "      <td>batch_01_vt/0400.png</td>\n",
       "      <td>0.994987</td>\n",
       "      <td>2</td>\n",
       "    </tr>\n",
       "    <tr>\n",
       "      <th>653</th>\n",
       "      <td>batch_03/0541.png</td>\n",
       "      <td>0.995610</td>\n",
       "      <td>2</td>\n",
       "    </tr>\n",
       "    <tr>\n",
       "      <th>654</th>\n",
       "      <td>batch_01_vt/1109.png</td>\n",
       "      <td>0.995776</td>\n",
       "      <td>2</td>\n",
       "    </tr>\n",
       "  </tbody>\n",
       "</table>\n",
       "<p>655 rows × 3 columns</p>\n",
       "</div>"
      ],
      "text/plain": [
       "                file_name      mIoU  class_nums\n",
       "0    batch_01_vt/0589.png  0.101000           2\n",
       "1    batch_01_vt/0655.png  0.122231           5\n",
       "2    batch_01_vt/0558.png  0.136506           4\n",
       "3       batch_03/0139.png  0.153990           3\n",
       "4       batch_03/0512.png  0.162049           6\n",
       "..                    ...       ...         ...\n",
       "650  batch_01_vt/0572.png  0.994069           2\n",
       "651  batch_01_vt/1097.png  0.994129           2\n",
       "652  batch_01_vt/0400.png  0.994987           2\n",
       "653     batch_03/0541.png  0.995610           2\n",
       "654  batch_01_vt/1109.png  0.995776           2\n",
       "\n",
       "[655 rows x 3 columns]"
      ]
     },
     "execution_count": 59,
     "metadata": {},
     "output_type": "execute_result"
    }
   ],
   "source": [
    "df"
   ]
  },
  {
   "cell_type": "code",
   "execution_count": 60,
   "id": "119fd9a3-5da8-4c6d-9ef9-11500e19fa49",
   "metadata": {},
   "outputs": [],
   "source": [
    "# df.to_csv(\"DeepLabV3Plus_efficientb3_testmIoU0.5772.csv\", index=False)"
   ]
  },
  {
   "cell_type": "markdown",
   "id": "6f826960-5ed4-4e37-88b1-3268675a9586",
   "metadata": {},
   "source": [
    "# sorted 폴더에 순서대로 저장"
   ]
  },
  {
   "cell_type": "code",
   "execution_count": 74,
   "id": "852f1ca4-d925-4e07-97fa-85ff792b8317",
   "metadata": {},
   "outputs": [
    {
     "name": "stderr",
     "output_type": "stream",
     "text": [
      "100%|██████████| 655/655 [00:00<00:00, 2746.70it/s]\n"
     ]
    }
   ],
   "source": [
    "if not os.path.exists(os.path.join(args.save_dir, 'sorted')):\n",
    "    os.makedirs(os.path.join(args.save_dir, 'sorted'))\n",
    "for i, f in tqdm(enumerate(df['file_name']), total=df.shape[0]):\n",
    "    src = os.path.join(args.save_dir, f)\n",
    "    f = f.split('/')[-1]\n",
    "    shutil.copy(src, f\"{args.save_dir}/sorted/{i:0>3}_{f}\")\n"
   ]
  },
  {
   "cell_type": "code",
   "execution_count": null,
   "id": "868129b6-c938-4d31-bb55-dff9624edd29",
   "metadata": {},
   "outputs": [],
   "source": []
  }
 ],
 "metadata": {
  "kernelspec": {
   "display_name": "Python 3 (ipykernel)",
   "language": "python",
   "name": "python3"
  },
  "language_info": {
   "codemirror_mode": {
    "name": "ipython",
    "version": 3
   },
   "file_extension": ".py",
   "mimetype": "text/x-python",
   "name": "python",
   "nbconvert_exporter": "python",
   "pygments_lexer": "ipython3",
   "version": "3.8.5"
  }
 },
 "nbformat": 4,
 "nbformat_minor": 5
}
